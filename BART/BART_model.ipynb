{
 "cells": [
  {
   "cell_type": "markdown",
   "id": "573ea537",
   "metadata": {},
   "source": [
    "# Bart model"
   ]
  },
  {
   "cell_type": "markdown",
   "id": "55382ea4",
   "metadata": {},
   "source": [
    "### Import the necessary libraries"
   ]
  },
  {
   "cell_type": "code",
   "execution_count": null,
   "id": "04e9e09e",
   "metadata": {},
   "outputs": [],
   "source": [
    "from pathlib import Path\n",
    "\n",
    "import arviz as az\n",
    "import matplotlib.pyplot as plt\n",
    "import numpy as np\n",
    "import pandas as pd\n",
    "import pymc as pm\n",
    "import pymc_bart as pmb\n",
    "from sklearn.preprocessing import StandardScaler\n",
    "import math\n",
    "from scipy.stats import norm\n",
    "\n",
    "\n",
    "from sklearn.model_selection import train_test_split\n",
    "\n",
    "%config InlineBackend.figure_format = \"retina\"\n",
    "\n",
    "print(f\"Running on PyMC v{pm.__version__}\")\n",
    "\n",
    "az.style.use(\"arviz-darkgrid\")"
   ]
  },
  {
   "cell_type": "markdown",
   "id": "6a8fb7c2",
   "metadata": {},
   "source": [
    "### Prepare the data"
   ]
  },
  {
   "cell_type": "code",
   "execution_count": null,
   "id": "737cebd1",
   "metadata": {},
   "outputs": [],
   "source": [
    "df_SGA_env = pd.read_csv('env_info.csv')\n",
    "df_SGA_gag = pd.read_csv('gag_info.csv')\n",
    "\n",
    "exclude_cols = ['ID', 'TSI', 'multiple', 'art', 'art_start_days']\n",
    "cols_inf = [\n",
    "    col for col in df_SGA_env.columns\n",
    "    if col.startswith(\"m\") and col[1:].isdigit() and int(col[1:]) < 7186\n",
    "]\n",
    "cols_sup = [\n",
    "    col for col in df_SGA_env.columns\n",
    "    if col.startswith(\"m\") and col[1:].isdigit() and int(col[1:]) >= 7186\n",
    "]\n",
    "\n",
    "\n",
    "df_SGA_gag['mean_gag'] = df_SGA_gag.drop(columns=exclude_cols, axis=1).mean(axis=1)\n",
    "df_SGA_env['mean_env_inf'] = df_SGA_env[cols_inf].mean(axis=1)\n",
    "df_SGA_env['mean_env_sup'] = df_SGA_env[cols_sup].mean(axis=1)\n",
    "\n",
    "df_SGA_gag_small = df_SGA_gag[exclude_cols + ['mean_gag']]\n",
    "df_SGA_env_small = df_SGA_env[exclude_cols + ['mean_env_inf', 'mean_env_sup']]\n",
    "\n",
    "df_SGA = pd.merge(\n",
    "    df_SGA_gag_small,\n",
    "    df_SGA_env_small,\n",
    "    on=exclude_cols,\n",
    "    how='inner'\n",
    ")\n",
    "df_SGA = df_SGA.fillna(0)\n",
    "df_SGA.head()"
   ]
  },
  {
   "cell_type": "code",
   "execution_count": null,
   "id": "26e4a886",
   "metadata": {},
   "outputs": [],
   "source": [
    "df_ID = pd.read_csv('id_test.csv')\n",
    "df_SGA_filter = df_SGA.merge(df_ID, \n",
    "                            on=['ID', 'TSI'], \n",
    "                            how='left', \n",
    "                            indicator=True)\n",
    "df_SGA_train = df_SGA_filter[df_SGA_filter['_merge'] == 'left_only']\n",
    "df_SGA_test = df_SGA_filter[df_SGA_filter['_merge'] != 'left_only']\n",
    "df_SGA_train = df_SGA_train.drop(columns=['_merge'])\n",
    "df_SGA_test = df_SGA_test.drop(columns=['_merge'])\n",
    "\n",
    "X_train = df_SGA_train[['multiple', 'art', 'art_start_days', 'mean_gag', 'mean_env_inf', 'mean_env_sup']].to_numpy()\n",
    "Y_train = df_SGA_train[['TSI']].to_numpy().reshape(-1)\n",
    "\n",
    "X_test = df_SGA_test[['multiple', 'art', 'art_start_days', 'mean_gag', 'mean_env_inf', 'mean_env_sup']].to_numpy()\n",
    "Y_test = df_SGA_test[['TSI']].to_numpy().reshape(-1)\n",
    "\n",
    "df_SGA_test"
   ]
  },
  {
   "cell_type": "markdown",
   "id": "8c5b9459",
   "metadata": {},
   "source": [
    "### Model"
   ]
  },
  {
   "cell_type": "code",
   "execution_count": null,
   "id": "fcc83ae9",
   "metadata": {},
   "outputs": [],
   "source": [
    "with pm.Model() as SQRT_regression:\n",
    "    X_shared = pm.MutableData(\"X\", X_train)\n",
    "    # Prior\n",
    "    sqrt_mu = pmb.BART(\"sqrt_mu\", X=X_shared, Y=np.sqrt(Y_train), m=200, beta=2.5)\n",
    "    mu = pm.Deterministic(\"mu\", sqrt_mu**2)\n",
    "    sigma = pm.Exponential(\"sigma\", 1)\n",
    "    # Likelihood\n",
    "    y_obs = pm.Normal(\"y_obs\", mu=mu, sigma=sigma, observed=Y_train)\n",
    "\n",
    "    trace = pm.sample(tune=500, draws=1500, random_seed=4242, target_accept=0.85)  # target_accept=0.95\n",
    "    posterior_predictive_oos_regression_train = pm.sample_posterior_predictive(\n",
    "        trace, var_names=[\"y_obs\", \"mu\"],\n",
    "        extend_inferencedata=True, predictions=True, random_seed=123\n",
    "    )"
   ]
  },
  {
   "cell_type": "markdown",
   "id": "1bb63c5e",
   "metadata": {},
   "source": [
    "### Convergence diagnostic"
   ]
  },
  {
   "cell_type": "code",
   "execution_count": null,
   "id": "7bc155ff",
   "metadata": {},
   "outputs": [],
   "source": [
    "pmb.plot_convergence(trace, var_name=\"mu\")"
   ]
  },
  {
   "cell_type": "code",
   "execution_count": null,
   "id": "e9c4fc85",
   "metadata": {},
   "outputs": [],
   "source": [
    "pm.plot_trace(trace)"
   ]
  },
  {
   "cell_type": "code",
   "execution_count": null,
   "id": "e7aa36b3",
   "metadata": {},
   "outputs": [],
   "source": [
    "az.plot_pair(\n",
    "    trace,\n",
    "    var_names=[\"mu\", \"sigma\"],\n",
    "    coords={\"mu_dim_0\": [11, 22, 33, 44, 55]},\n",
    "    kind=\"scatter\",\n",
    "    marginals=True\n",
    ")\n",
    "plt.show()"
   ]
  },
  {
   "cell_type": "markdown",
   "id": "a32a4a55",
   "metadata": {},
   "source": [
    "### Plot the predictions on the train dataset"
   ]
  },
  {
   "cell_type": "code",
   "execution_count": null,
   "id": "9cfd5990",
   "metadata": {},
   "outputs": [],
   "source": [
    "with SQRT_regression:\n",
    "    pm.set_data({\"X\": X_train})\n",
    "    posterior_predictive_train = pm.sample_posterior_predictive(\n",
    "        trace, var_names=[\"mu\", \"sigma\"], random_seed=123, predictions=True\n",
    "    )\n",
    "\n",
    "\n",
    "y_pred_train_samples = posterior_predictive_train.predictions[\"mu\"].values  # (chains, draws, n_obs_train)\n",
    "\n",
    "# Mean and 95% confidence intervals\n",
    "y_pred_train_mean = y_pred_train_samples.mean(axis=(0, 1))\n",
    "y_pred_train_hdi = az.hdi(y_pred_train_samples.reshape(-1, y_pred_train_samples.shape[-1]), hdi_prob=0.95).T\n",
    "\n",
    "# Filter for the TSI values under ... days\n",
    "mask = (Y_train <= 1000) & (y_pred_train_mean <= 1000)\n",
    "Y_train_filt = Y_train[mask]\n",
    "y_pred_train_mean_filt = y_pred_train_mean[mask]\n",
    "y_pred_train_hdi_filt = y_pred_train_hdi[:, mask]\n",
    "\n",
    "# Plot\n",
    "plt.figure(figsize=(7, 7))\n",
    "plt.scatter(Y_train_filt, y_pred_train_mean_filt, alpha=0.6, label=\"Predicted mean (train)\")\n",
    "plt.errorbar(\n",
    "    Y_train_filt,\n",
    "    y_pred_train_mean_filt,\n",
    "    yerr=[y_pred_train_mean_filt - y_pred_train_hdi_filt[0],\n",
    "          y_pred_train_hdi_filt[1] - y_pred_train_mean_filt],\n",
    "    fmt='o', alpha=0.3, color=\"grey\", capsize=2\n",
    ")\n",
    "plt.plot([Y_train_filt.min(), Y_train_filt.max()],\n",
    "         [Y_train_filt.min(), Y_train_filt.max()],\n",
    "         \"r--\", lw=2, label=\"Perfect prediction\")\n",
    "\n",
    "plt.xlabel(\"True values (Train)\")\n",
    "plt.ylabel(\"Predicted TSI with 95% confidence intervals\")\n",
    "plt.legend()\n",
    "plt.title(\"\")\n",
    "plt.show()"
   ]
  },
  {
   "cell_type": "markdown",
   "id": "a10ad55f",
   "metadata": {},
   "source": [
    "### Variable importance plot"
   ]
  },
  {
   "cell_type": "code",
   "execution_count": null,
   "id": "71d23740",
   "metadata": {},
   "outputs": [],
   "source": [
    "feature_names = ['Multiple', 'Art', 'Art start days', 'pdist gag', 'pdist env inf', 'pdsit env sup']\n",
    "X_train_df = pd.DataFrame(X_train, columns=feature_names)\n",
    "vi_results = pmb.compute_variable_importance(trace, sqrt_mu, X_train_df)\n",
    "\n",
    "\n",
    "ax = pmb.plot_variable_importance(vi_results, figsize=(7.9,4.5))\n",
    "plt.xticks(rotation=30, fontsize=9)\n",
    "\n",
    "plt.tight_layout()\n",
    "plt.show()"
   ]
  },
  {
   "cell_type": "markdown",
   "id": "ad796a40",
   "metadata": {},
   "source": [
    "### Evaluation on the test dataset"
   ]
  },
  {
   "cell_type": "code",
   "execution_count": null,
   "id": "ff547634",
   "metadata": {},
   "outputs": [],
   "source": [
    "with SQRT_regression:\n",
    "    pm.set_data({\"X\": X_test})  # Remplace les données\n",
    "    posterior_predictive_test = pm.sample_posterior_predictive(\n",
    "        trace, var_names=[\"mu\", \"sigma\"], random_seed=123, predictions=True\n",
    "    )"
   ]
  },
  {
   "cell_type": "code",
   "execution_count": null,
   "id": "3eb6f9bf",
   "metadata": {},
   "outputs": [],
   "source": [
    "y_pred_samples = posterior_predictive_test.predictions[\"mu\"].values  # (chains, draws, n_obs_test)\n",
    "y_pred_mean = y_pred_samples.mean(axis=(0, 1))\n",
    "\n",
    "from sklearn.metrics import r2_score, mean_squared_error\n",
    "\n",
    "r2 = r2_score(Y_test, y_pred_mean)\n",
    "rmse = np.sqrt(mean_squared_error(Y_test, y_pred_mean))\n",
    "\n",
    "print(\"R²:\", r2)\n",
    "print(\"RMSE:\", rmse)\n",
    "\n",
    "mu_samples = posterior_predictive_test.predictions[\"mu\"].values      # (chains, draws, obs)\n",
    "sigma_samples = trace.posterior[\"sigma\"].values  # (chains, draws)\n",
    "sigma_samples = sigma_samples[..., None]       \n",
    "\n",
    "log_likelihood = norm.logpdf(Y_test[None, None, :], loc=mu_samples, scale=sigma_samples)\n",
    "elpd = log_likelihood.mean()\n",
    "\n",
    "print(\"ELPD:\", elpd)"
   ]
  },
  {
   "cell_type": "markdown",
   "id": "aabdba8f",
   "metadata": {},
   "source": [
    "# Predictions on the test dataset"
   ]
  },
  {
   "cell_type": "code",
   "execution_count": null,
   "id": "eb29a6f7",
   "metadata": {},
   "outputs": [],
   "source": [
    "# Extract posterior samples\n",
    "mu_samples = ppc_test.predictions[\"mu\"].values      # (chains, draws, n_obs_test)\n",
    "sigma_samples = ppc_test.predictions[\"sigma\"].values  # (chains, draws)\n",
    "\n",
    "# Broadcast sigma to match mu\n",
    "sigma_samples = sigma_samples[..., None]  # (chains, draws, 1)\n",
    "\n",
    "# Simulate y_obs manually\n",
    "rng = np.random.default_rng(4242)\n",
    "y_pred_ppc = rng.normal(mu_samples, sigma_samples)\n",
    "\n",
    "# Predictive mean\n",
    "y_pred_mean = y_pred_ppc.mean(axis=(0, 1))\n",
    "\n",
    "# 95% predictive interval\n",
    "y_pred_hdi = np.percentile(y_pred_ppc, [2.5, 97.5], axis=(0, 1))"
   ]
  },
  {
   "cell_type": "code",
   "execution_count": null,
   "id": "6f11f562",
   "metadata": {},
   "outputs": [],
   "source": [
    "plt.figure(figsize=(6,6))\n",
    "plt.scatter(Y_test, y_pred_mean, alpha=0.6, label=\"Predicted mean\")\n",
    "\n",
    "# Add predictive intervals (error bars)\n",
    "plt.errorbar(Y_test, y_pred_mean,\n",
    "             yerr=[y_pred_mean - y_pred_hdi[0], y_pred_hdi[1] - y_pred_mean],\n",
    "             fmt=\"o\", alpha=0.3, color=\"gray\")\n",
    "\n",
    "plt.plot([Y_test.min(), Y_test.max()],\n",
    "         [Y_test.min(), Y_test.max()],\n",
    "         \"r--\", lw=2, label=\"Perfect prediction\")\n",
    "\n",
    "plt.xlabel(\"True TSI\")\n",
    "plt.ylabel(\"Predicted TSI\")\n",
    "plt.legend()\n",
    "plt.title(\"\")\n",
    "plt.show()"
   ]
  }
 ],
 "metadata": {
  "kernelspec": {
   "display_name": "base",
   "language": "python",
   "name": "python3"
  },
  "language_info": {
   "name": "python",
   "version": "3.9.13"
  }
 },
 "nbformat": 4,
 "nbformat_minor": 5
}
